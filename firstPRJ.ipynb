{
  "nbformat": 4,
  "nbformat_minor": 0,
  "metadata": {
    "colab": {
      "name": "firstPRJ.ipynb",
      "provenance": [],
      "collapsed_sections": []
    },
    "kernelspec": {
      "name": "python3",
      "display_name": "Python 3"
    }
  },
  "cells": [
    {
      "cell_type": "code",
      "metadata": {
        "id": "GLbsZQaKqlD7"
      },
      "source": [
        "#------------------load dataset-------------\r\n",
        "from sklearn.datasets import load_iris\r\n",
        "import numpy as np\r\n",
        "import pandas as pd\r\n",
        "iris = load_iris()"
      ],
      "execution_count": 1,
      "outputs": []
    },
    {
      "cell_type": "code",
      "metadata": {
        "id": "mq2QQbnWrO3h"
      },
      "source": [
        "#--------------onehot encoding---------\r\n",
        "target = pd.get_dummies(iris.target)"
      ],
      "execution_count": 2,
      "outputs": []
    },
    {
      "cell_type": "code",
      "metadata": {
        "colab": {
          "base_uri": "https://localhost:8080/"
        },
        "id": "3tVgTkDguUmd",
        "outputId": "699bfba9-3b17-416a-b033-f3903ab63047"
      },
      "source": [
        "dataset = np.hstack((np.ones((150,1)),iris.data))\r\n",
        "dataset.shape  #(150, 5)"
      ],
      "execution_count": 3,
      "outputs": [
        {
          "output_type": "execute_result",
          "data": {
            "text/plain": [
              "(150, 5)"
            ]
          },
          "metadata": {
            "tags": []
          },
          "execution_count": 3
        }
      ]
    },
    {
      "cell_type": "code",
      "metadata": {
        "id": "otz4lJKPy3Em"
      },
      "source": [
        "#-------------step 1 ----------------\r\n",
        "r=np.random.rand(3,5)*100 - 50"
      ],
      "execution_count": 4,
      "outputs": []
    },
    {
      "cell_type": "code",
      "metadata": {
        "colab": {
          "base_uri": "https://localhost:8080/"
        },
        "id": "OR7pHUopy339",
        "outputId": "531b5d02-fa86-4f51-99a8-77d6edef8714"
      },
      "source": [
        "#-------------step2 & 3 -----------------\r\n",
        "z= dataset[:,0:5] @ r.T\r\n",
        "z.shape  #(150, 3) "
      ],
      "execution_count": 5,
      "outputs": [
        {
          "output_type": "execute_result",
          "data": {
            "text/plain": [
              "(150, 3)"
            ]
          },
          "metadata": {
            "tags": []
          },
          "execution_count": 5
        }
      ]
    },
    {
      "cell_type": "code",
      "metadata": {
        "colab": {
          "base_uri": "https://localhost:8080/"
        },
        "id": "29VFY4qL0TQc",
        "outputId": "f8622bf9-2bf3-4b24-caed-3323048f346d"
      },
      "source": [
        "# ---------------hstack -------------\r\n",
        "dataset=np.hstack((dataset,z,target))\r\n",
        "dataset.shape"
      ],
      "execution_count": 6,
      "outputs": [
        {
          "output_type": "execute_result",
          "data": {
            "text/plain": [
              "(150, 11)"
            ]
          },
          "metadata": {
            "tags": []
          },
          "execution_count": 6
        }
      ]
    },
    {
      "cell_type": "code",
      "metadata": {
        "id": "FIP7aI1nvwna",
        "colab": {
          "base_uri": "https://localhost:8080/"
        },
        "outputId": "ad5987ae-0ab1-4b80-e558-6a91ff198732"
      },
      "source": [
        "#----------shuffling------------------\r\n",
        "from sklearn.utils import shuffle\r\n",
        "dataset=shuffle(dataset)\r\n",
        "dataset.shape  #(150, 8)"
      ],
      "execution_count": 7,
      "outputs": [
        {
          "output_type": "execute_result",
          "data": {
            "text/plain": [
              "(150, 11)"
            ]
          },
          "metadata": {
            "tags": []
          },
          "execution_count": 7
        }
      ]
    },
    {
      "cell_type": "code",
      "metadata": {
        "colab": {
          "base_uri": "https://localhost:8080/"
        },
        "id": "Mw8WV6KTwYOZ",
        "outputId": "5871954e-f89c-4563-846a-89a9c44eee7d"
      },
      "source": [
        "#-------------test & train -----------\r\n",
        "train=dataset[0:120,:]    \r\n",
        "test=dataset[120:,:]     \r\n",
        "test.shape                #(30, 11)\r\n",
        "train.shape              # (120, 11)"
      ],
      "execution_count": 8,
      "outputs": [
        {
          "output_type": "execute_result",
          "data": {
            "text/plain": [
              "(120, 11)"
            ]
          },
          "metadata": {
            "tags": []
          },
          "execution_count": 8
        }
      ]
    },
    {
      "cell_type": "code",
      "metadata": {
        "colab": {
          "base_uri": "https://localhost:8080/"
        },
        "id": "2RN0BBCExFrw",
        "outputId": "a38e528d-7fdd-4b58-8fe6-2135ef024ea9"
      },
      "source": [
        "#------------linear regression-------------\r\n",
        "from scipy import linalg\r\n",
        "theta= linalg.pinv(train[:,0:8].T @ train[:,0:8]) @ train[:,0:8].T @ train[:,8:11]\r\n",
        "theta.shape   #(8, 3)"
      ],
      "execution_count": 9,
      "outputs": [
        {
          "output_type": "execute_result",
          "data": {
            "text/plain": [
              "(8, 3)"
            ]
          },
          "metadata": {
            "tags": []
          },
          "execution_count": 9
        }
      ]
    },
    {
      "cell_type": "code",
      "metadata": {
        "colab": {
          "base_uri": "https://localhost:8080/"
        },
        "id": "J4C_7t4KxfkE",
        "outputId": "95f89016-29ec-436b-991b-906fb09637c7"
      },
      "source": [
        "#---------rate on train data-------------\r\n",
        "y_pred = train[:,0:8] @ theta\r\n",
        "y_pred = (y_pred > 0.5) * 1 #treshold\r\n",
        "\r\n",
        "r1=(120 - (np.sum((train[:,8] - y_pred[:,0] )**2))) / 120\r\n",
        "r2=(120 - (np.sum((train[:,9] - y_pred[:,1] )**2))) / 120\r\n",
        "r3=(120 - (np.sum((train[:,10] - y_pred[:,2] )**2))) / 120\r\n",
        "\r\n",
        "np.hstack(( np.reshape(train[:,9],(-1,1)) , np.reshape(y_pred[:,1],(-1,1))))\r\n",
        "\r\n",
        "r1 , r2 ,r3 \r\n",
        "#compare"
      ],
      "execution_count": 10,
      "outputs": [
        {
          "output_type": "execute_result",
          "data": {
            "text/plain": [
              "(1.0, 0.725, 0.9333333333333333)"
            ]
          },
          "metadata": {
            "tags": []
          },
          "execution_count": 10
        }
      ]
    },
    {
      "cell_type": "code",
      "metadata": {
        "colab": {
          "base_uri": "https://localhost:8080/"
        },
        "id": "t0v6xABUBBNY",
        "outputId": "49a0e6cd-d7c4-4a6a-90ff-e23058cc9a71"
      },
      "source": [
        "#---------rate on test data-------------\r\n",
        "y_pred = test[:,0:8] @ theta\r\n",
        "y_pred = (y_pred > 0.5) * 1 #treshold\r\n",
        "\r\n",
        "r1=(30 - (np.sum((test[:,8] - y_pred[:,0] )**2))) / 30\r\n",
        "r2=(30 - (np.sum((test[:,9] - y_pred[:,1] )**2))) / 30\r\n",
        "r3=(30 - (np.sum((test[:,10] - y_pred[:,2] )**2))) / 30\r\n",
        "\r\n",
        "np.hstack(( np.reshape(test[:,9],(-1,1)) , np.reshape(y_pred[:,1],(-1,1))))\r\n",
        "\r\n",
        "r1 , r2 ,r3 "
      ],
      "execution_count": 11,
      "outputs": [
        {
          "output_type": "execute_result",
          "data": {
            "text/plain": [
              "(1.0, 0.7666666666666667, 0.9666666666666667)"
            ]
          },
          "metadata": {
            "tags": []
          },
          "execution_count": 11
        }
      ]
    },
    {
      "cell_type": "code",
      "metadata": {
        "id": "2D-OD_KABsUo"
      },
      "source": [
        "#--------logestic regression ----------------\r\n",
        "theta1=np.random.rand(8,3)*100 - 50\r\n",
        "def logestic(u): \r\n",
        "  return 1 /(1+(np.e ** (-1*u)))"
      ],
      "execution_count": 12,
      "outputs": []
    },
    {
      "cell_type": "code",
      "metadata": {
        "colab": {
          "base_uri": "https://localhost:8080/"
        },
        "id": "zLuhnzpHHKSb",
        "outputId": "7f587657-ac3d-473a-e712-65e28bfebf8f"
      },
      "source": [
        "#----------gredient decsent----------------\r\n",
        "t=1 #tekrar\r\n",
        "alpha=0.0017\r\n",
        "while (t<400) :\r\n",
        "  er =  train[:,8:11] - logestic(train[:,0:8] @ theta1)\r\n",
        "  theta1 = theta1 + alpha * train[:,0:8].T @ er\r\n",
        "  t+=1"
      ],
      "execution_count": 56,
      "outputs": [
        {
          "output_type": "stream",
          "text": [
            "/usr/local/lib/python3.6/dist-packages/ipykernel_launcher.py:4: RuntimeWarning: overflow encountered in power\n",
            "  after removing the cwd from sys.path.\n"
          ],
          "name": "stderr"
        }
      ]
    },
    {
      "cell_type": "code",
      "metadata": {
        "colab": {
          "base_uri": "https://localhost:8080/"
        },
        "id": "lo8f9W_RIexg",
        "outputId": "9ee3096f-e585-4286-bcd2-19ae1883e08d"
      },
      "source": [
        "#---------rate on train data-------------\r\n",
        "vv = logestic(train[:,0:8] @ theta1)\r\n",
        "\r\n",
        "\r\n",
        "y_pred1 = (vv > 0.5)  #treshold\r\n",
        "\r\n",
        "r1=(120 - (np.sum((train[:,8] - y_pred1[:,0] )**2))) / 120\r\n",
        "r2=(120 - (np.sum((train[:,9] - y_pred1[:,1] )**2))) / 120\r\n",
        "r3=(120 - (np.sum((train[:,10] - y_pred1[:,2] )**2))) / 120\r\n",
        "\r\n",
        "np.hstack(( np.reshape(train[:,9],(-1,1)) , np.reshape(y_pred1[:,1],(-1,1))))\r\n",
        "\r\n",
        "r1 , r2 ,r3 \r\n"
      ],
      "execution_count": 57,
      "outputs": [
        {
          "output_type": "stream",
          "text": [
            "/usr/local/lib/python3.6/dist-packages/ipykernel_launcher.py:4: RuntimeWarning: overflow encountered in power\n",
            "  after removing the cwd from sys.path.\n"
          ],
          "name": "stderr"
        },
        {
          "output_type": "execute_result",
          "data": {
            "text/plain": [
              "(1.0, 0.775, 0.975)"
            ]
          },
          "metadata": {
            "tags": []
          },
          "execution_count": 57
        }
      ]
    },
    {
      "cell_type": "code",
      "metadata": {
        "colab": {
          "base_uri": "https://localhost:8080/"
        },
        "id": "hVgcQx3wJmaQ",
        "outputId": "60369392-00ab-46e5-e953-ab4d19a7f02d"
      },
      "source": [
        "#---------rate on test data-------------\r\n",
        "vv = logestic(test[:,0:8] @ theta1)\r\n",
        "\r\n",
        "\r\n",
        "y_pred1 = (vv > 0.5)  #treshold\r\n",
        "\r\n",
        "r1=(30 - (np.sum((test[:,8] - y_pred1[:,0] )**2))) / 30\r\n",
        "r2=(30 - (np.sum((test[:,9] - y_pred1[:,1] )**2))) / 30\r\n",
        "r3=(30 - (np.sum((test[:,10] - y_pred1[:,2] )**2))) / 30\r\n",
        "\r\n",
        "np.hstack(( np.reshape(test[:,10],(-1,1)) , np.reshape(y_pred1[:,2],(-1,1))))\r\n",
        "\r\n",
        "r1 , r2 ,r3 "
      ],
      "execution_count": 58,
      "outputs": [
        {
          "output_type": "stream",
          "text": [
            "/usr/local/lib/python3.6/dist-packages/ipykernel_launcher.py:4: RuntimeWarning: overflow encountered in power\n",
            "  after removing the cwd from sys.path.\n"
          ],
          "name": "stderr"
        },
        {
          "output_type": "execute_result",
          "data": {
            "text/plain": [
              "(1.0, 0.6666666666666666, 0.9666666666666667)"
            ]
          },
          "metadata": {
            "tags": []
          },
          "execution_count": 58
        }
      ]
    }
  ]
}